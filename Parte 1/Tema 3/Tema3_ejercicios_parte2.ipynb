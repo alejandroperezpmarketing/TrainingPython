{
 "cells": [
  {
   "cell_type": "markdown",
   "metadata": {},
   "source": [
    "# Ejercicios del tema 3 - parte 2 - diccionarios"
   ]
  },
  {
   "cell_type": "markdown",
   "metadata": {},
   "source": [
    "### Ejercicio 1\n",
    "\n",
    "El alfabeto de la Organización Internacional de Aviación Civil (International Civil Aviation Organization (ICAO)) asigna un código de palabras a las letras del alfabeto inglés (Alfa para la A, Bravo para la B, etc.), de forma que las combinaciones de letras críticas se pueden pronunciar y pueden ser entendidas por aquellos que transmiten y reciben mensajes de voz por radio o teléfono, independientemente de su idioma nativo. Dado el siguiente diccionario en Python, que cubre una versión del alfabeto ICAO, diseñar un programa que lea una palabra y la traduzca en la lista de palabras ICAO."
   ]
  },
  {
   "cell_type": "code",
   "execution_count": 17,
   "metadata": {},
   "outputs": [],
   "source": [
    "d = {'a':'alfa', 'b':'bravo', 'c':'charlie', 'd':'delta', 'e':'echo', 'f':'foxtrot',\n",
    "     'g':'golf', 'h':'hotel', 'i':'india', 'j':'juliett', 'k':'kilo', 'l':'lima',\n",
    "     'm':'mike', 'n':'november', 'o':'oscar', 'p':'papa', 'q':'quebec', 'r':'romeo',\n",
    "     's':'sierra', 't':'tango', 'u':'uniform', 'v':'victor', 'w':'whiskey',\n",
    "     'x':'x-ray', 'y':'yankee', 'z':'zulu'}\n",
    "\n",
    "# Aquí tu código\n",
    "\n"
   ]
  },
  {
   "cell_type": "markdown",
   "metadata": {},
   "source": [
    "### Ejercicio 2\n",
    "\n",
    "Implementa un programa para calcular el valor del stock de una frutería. Para ello, se deben crear dos diccionarios: el primero, denominado `precio`, contendrá un conjunto de frutas como clave y el precio como valor (por ejemplo: `{\"platano\": 3, \"manzana\": 2, \"naranja\": 2.5, \"pera\": 3.5}`); el segundo, denominado `stock`, contendrá las mismas frutas como clave y la cantidad de kilos de cada una como valor (por ejemplo: `{\"platano\": 20, \"manzana\": 30, \"naranja\": 15, \"pera\": 30}`). A continuación, se deben escribir las instrucciones necesarias para mostrar el valor total del stock, es decir, $total=\\sum_{\\forall k} precio[k]*stock[k]$. Utilizando los ejemplos anteriores, el resultado sería 262.5 euros."
   ]
  },
  {
   "cell_type": "code",
   "execution_count": null,
   "metadata": {},
   "outputs": [],
   "source": []
  },
  {
   "cell_type": "markdown",
   "metadata": {},
   "source": [
    "### Ejercicio 3\n",
    "\n",
    "Dado el siguiente string en formato GeoJSON, muestra por pantalla los siguientes elementos:\n",
    "\n",
    "1. Todas las propiedades del monumento\n",
    "1. El nombre del monumento\n",
    "1. El teléfono de contacto\n",
    "1. Las coordenadas del monumento\n",
    "1. El valor de la longitud de las coordenadas del monumento\n",
    "1. Las dos últimas palabras del nombre del monumento"
   ]
  },
  {
   "cell_type": "code",
   "execution_count": 18,
   "metadata": {},
   "outputs": [],
   "source": [
    "import json\n",
    "datos_str = \"\"\"{\"type\": \"Feature\", \n",
    "                \"properties\": { \n",
    "                    \"nombre\": \"IGLESIA PARROQUIAL DE SAN ESTEBAN\", \n",
    "                    \"numpol\": \"5\", \n",
    "                    \"idnotes\": \"004197\", \n",
    "                    \"codvia\": \"67590\", \n",
    "                    \"telefono\": \"963918276\", \n",
    "                    \"ruta\": \"5\" }, \n",
    "                \"geometry\": { \n",
    "                    \"type\": \"Point\", \n",
    "                    \"coordinates\": [ -0.373245739750917, 39.476100796615739 ] \n",
    "               }\n",
    "             }\"\"\"\n",
    "\n"
   ]
  },
  {
   "cell_type": "markdown",
   "metadata": {},
   "source": [
    "### Ejercicio 4\n",
    "\n",
    "Modifica el diccionario anterior con la siguiente información:\n",
    "1. Cambia el teléfono almacenado por éste: 963445050\n",
    "2. Añade una nueva propiedad `tiempo_recomendado_visita` y asigna el valor `60`\n",
    "\n",
    "Guarda el diccionario en el fichero `iglesia.json`. Comprueba que la información se ha guardado correctamente."
   ]
  },
  {
   "cell_type": "code",
   "execution_count": null,
   "metadata": {},
   "outputs": [],
   "source": []
  },
  {
   "cell_type": "markdown",
   "metadata": {},
   "source": [
    "### Ejercicio 5\n",
    "\n",
    "Dado el fichero `monumentos.json` (en poliformat), lee dicho fichero y muestra la siguiente información:\n",
    "1. El número de monumentos que contiene\n",
    "1. El nombre de todos los monumentos\n",
    "1. El nombre de los monumentos que pertenecen a la ruta 7"
   ]
  },
  {
   "cell_type": "code",
   "execution_count": null,
   "metadata": {},
   "outputs": [],
   "source": []
  }
 ],
 "metadata": {
  "kernelspec": {
   "display_name": "Python 3",
   "language": "python",
   "name": "python3"
  },
  "language_info": {
   "codemirror_mode": {
    "name": "ipython",
    "version": 3
   },
   "file_extension": ".py",
   "mimetype": "text/x-python",
   "name": "python",
   "nbconvert_exporter": "python",
   "pygments_lexer": "ipython3",
   "version": "3.8.8"
  }
 },
 "nbformat": 4,
 "nbformat_minor": 2
}
