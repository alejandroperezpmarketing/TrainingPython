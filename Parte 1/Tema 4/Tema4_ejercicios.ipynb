{
 "cells": [
  {
   "cell_type": "markdown",
   "id": "e5e6e7ba",
   "metadata": {},
   "source": [
    "# Ejercicios del tema 4"
   ]
  },
  {
   "cell_type": "markdown",
   "id": "08873142",
   "metadata": {},
   "source": [
    "### Ejercicio 1\n",
    "\n",
    "Diseña un programa que, dado un número real que debe representar la calificación numérica de un examen, proporcione la calificación cualitativa correspondiente al número dado. La calificación cualitativa será una de las siguientes: «Suspenso» (nota menor que 5), «Aprobado» (nota mayor o igual que 5, pero menor que 7), «Notable» (nota mayor o igual que 7, pero menor\n",
    "que 9), «Sobresaliente» (nota mayor o igual que 9, pero menor que 10), «Matrícula de Honor» (nota 10)."
   ]
  },
  {
   "cell_type": "code",
   "execution_count": null,
   "id": "ded763c2",
   "metadata": {},
   "outputs": [],
   "source": []
  },
  {
   "cell_type": "markdown",
   "id": "6fcf6467",
   "metadata": {},
   "source": [
    "### Ejercicio 2\n",
    "\n",
    "Implementa un programa para resolver ecuaciones de segundo grado: $ax^2 + bx + c = 0$. El cálculo a realizar para hallar las dos posibles soluciones de la ecuación es el que sigue:\n",
    "\n",
    "$x = \\frac{-b \\pm \\sqrt{b^2 - 4ac}}{2a}$\n",
    "\n",
    "Hay que tener en cuenta que no cualquier combinación de valores para $a$, $b$ y $c$ va a conducir al calculo de la ecuación, ya que existen combinaciones de valores que harán que la ecuación no tenga solución. A su vez, si el valor de $a$ es 0, la ecuación de segundo grado se convertirá en una de primer grado. Por su parte, si los 3 valores son 0, la ecuación tendrá infinitas soluciones. \n",
    "\n",
    "Si $b * b <4 * a * c$, entonces las raíces no son reales (son complejas, no es necesario dar la solución, solamente indicar que las soluciones no son reales). \n",
    "\n",
    "Si $b * b == 4 * a * c$, entonces las raíces son reales y ambas raíces son iguales. Por ejemplo, las raíces de $x^2 - 2x + 1$ son $1$ y $1$. \n",
    "\n",
    "Si $b * b> 4 * a * c$, entonces las raíces son reales y diferentes. Por ejemplo, las raíces de $x^2 - 1x - 12$ son $-3$ y $4$."
   ]
  },
  {
   "cell_type": "code",
   "execution_count": null,
   "id": "b1bad5d8",
   "metadata": {},
   "outputs": [],
   "source": []
  },
  {
   "cell_type": "markdown",
   "id": "a75a8ed9",
   "metadata": {},
   "source": [
    "### Ejercicio 3\n",
    "\n",
    "Diseña un programa que pida el valor de dos enteros $n$ y $m$ y que muestre por pantalla el valor de:\n",
    "\n",
    "-  $\\sum^m_{i=n} i$\n",
    "\n",
    "-  $\\sum^m_{i=n} i^2$\n",
    "\n",
    "-  el sumatorio de todos los números pares comprendidos entre ellos (incluyéndolos en el caso de que sean pares)\n",
    "\n",
    "-  todos los múltiplos de $n$ entre $n$ y $m·n$, ambos inclusive"
   ]
  },
  {
   "cell_type": "code",
   "execution_count": null,
   "id": "c11ec480",
   "metadata": {},
   "outputs": [],
   "source": []
  },
  {
   "cell_type": "markdown",
   "id": "17a12ae3",
   "metadata": {},
   "source": [
    "### Ejercicio 4\n",
    "\n",
    "Utilizando la función `listaAleatorios`, diseña un programa que calcule la media y la desviación típica de los elementos de la lista, aplicando las siguientes expresiones:\n",
    "\n",
    "   $\\bar{x}=\\frac{1}{n}\\sum^n_{i=1}x_i \\;\\;\\; \\;\\;\\; \\;\\;\\; \\;\\;\\; \\;\\;\\; \\sigma=\\sqrt{\\frac{1}{n}\\sum^n_{i=1}(x_i-\\bar{x})^2}$"
   ]
  },
  {
   "cell_type": "code",
   "execution_count": null,
   "id": "e9345c5b",
   "metadata": {},
   "outputs": [],
   "source": [
    "import random\n",
    "\n",
    "def listaAleatorios(longitud, inicio, fin):\n",
    "    lista=[]\n",
    "    i=0\n",
    "    while i<longitud:\n",
    "        num=random.randint(inicio, fin)\n",
    "        if num not in lista:\n",
    "            lista.append(num)\n",
    "            i+=1\n",
    "    return lista\n",
    "\n"
   ]
  },
  {
   "cell_type": "markdown",
   "id": "2689c4fe",
   "metadata": {},
   "source": [
    "### Ejercicio 5\n",
    "\n",
    "Construye un programa con las funciones que se especifican a continuación. Es importante reutilizar las funciones definidas para resolver cada problema.\n",
    "\n",
    "-  Escribe una función que reciba dos nímeros enteros y devuelva True si el primer número es divisible por el segundo y False en caso contrario.\n",
    "\n",
    "-  Escribe una función que calcule la suma de todos los divisores (excluido él mismo) de un número que se recibe como parámetro.\n",
    "\n",
    "-  Escribe una función que devuelva True si el número que se recibe como parámetro es perfecto. Se dice que un número es perfecto si es igual a la suma de todos sus divisores excluido él mismo. Por ejemplo, 28 es un número perfecto, ya que sus divisores (excepto él mismo) son 1, 2, 4, 7 y 14, que suman 28.\n",
    "\n",
    "-  Escribe una función que devuelva True si los dos números que se reciben como parámetro son amigos. Se dice que dos números son amigos si uno es igual a la suma de los divisores del otro y viceversa (excluyendo ambos de la suma). Por ejemplo, los divisores de 220 son 1,2,4,5,10,11,20,22,44,55 y 110 que suman 284 y los divisores de 284 son 1,2,4,71 y 142 que suman 220.\n",
    "\n",
    "-  Escribe una función que imprima por pantalla la lista de los números perfectos comprendidos entre dos valores que se pasan como parámetro."
   ]
  },
  {
   "cell_type": "code",
   "execution_count": null,
   "id": "4b6e4ed7",
   "metadata": {},
   "outputs": [],
   "source": []
  },
  {
   "cell_type": "markdown",
   "id": "889d6086",
   "metadata": {},
   "source": [
    "### Ejercicio 6\n",
    "\n",
    "Dados los siguientes bloques de código, detecta cuál es el error y añade la captura de excepciones necesaria para evitar que el programa se bloquee y además explica en un mensaje al usuario la causa y/o solución:"
   ]
  },
  {
   "cell_type": "code",
   "execution_count": null,
   "id": "f456aa4c",
   "metadata": {},
   "outputs": [],
   "source": [
    "## Primer bloque\n",
    "a = 0\n",
    "b = 15\n",
    "resultado=b/a\n",
    "\n",
    "## Segundo bloque\n",
    "lista = [1, 2, 3, 4, 5]\n",
    "i = 10\n",
    "print(lista[i])\n",
    "\n",
    "## Tercer bloque\n",
    "colores = { 'rojo':'red', 'verde':'green', 'negro':'black' } \n",
    "k = 'blanco'\n",
    "print(colores[k])\n",
    "\n",
    "## Cuarto bloque\n",
    "a = 15\n",
    "b = \"30\"\n",
    "resultado = a + b"
   ]
  },
  {
   "cell_type": "code",
   "execution_count": null,
   "id": "31785006",
   "metadata": {},
   "outputs": [],
   "source": []
  }
 ],
 "metadata": {
  "kernelspec": {
   "display_name": "Python 3 (ipykernel)",
   "language": "python",
   "name": "python3"
  },
  "language_info": {
   "codemirror_mode": {
    "name": "ipython",
    "version": 3
   },
   "file_extension": ".py",
   "mimetype": "text/x-python",
   "name": "python",
   "nbconvert_exporter": "python",
   "pygments_lexer": "ipython3",
   "version": "3.10.5"
  }
 },
 "nbformat": 4,
 "nbformat_minor": 5
}
