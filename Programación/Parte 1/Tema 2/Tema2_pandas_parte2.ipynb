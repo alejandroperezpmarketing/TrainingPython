{
 "cells": [
  {
   "cell_type": "markdown",
   "metadata": {},
   "source": [
    "# Introducción a Pandas: Segunda parte"
   ]
  },
  {
   "cell_type": "markdown",
   "metadata": {},
   "source": [
    "De nuevo, vamos a importar los datos de los precios de alquileres en los distritos de Madrid:"
   ]
  },
  {
   "cell_type": "code",
   "execution_count": 1,
   "metadata": {},
   "outputs": [
    {
     "data": {
      "text/html": [
       "<div>\n",
       "<style scoped>\n",
       "    .dataframe tbody tr th:only-of-type {\n",
       "        vertical-align: middle;\n",
       "    }\n",
       "\n",
       "    .dataframe tbody tr th {\n",
       "        vertical-align: top;\n",
       "    }\n",
       "\n",
       "    .dataframe thead th {\n",
       "        text-align: right;\n",
       "    }\n",
       "</style>\n",
       "<table border=\"1\" class=\"dataframe\">\n",
       "  <thead>\n",
       "    <tr style=\"text-align: right;\">\n",
       "      <th></th>\n",
       "      <th>distrito</th>\n",
       "      <th>anyo</th>\n",
       "      <th>cuatrimestre</th>\n",
       "      <th>precio</th>\n",
       "    </tr>\n",
       "  </thead>\n",
       "  <tbody>\n",
       "    <tr>\n",
       "      <th>0</th>\n",
       "      <td>Arganzuela</td>\n",
       "      <td>2007</td>\n",
       "      <td>2</td>\n",
       "      <td>13.066587</td>\n",
       "    </tr>\n",
       "    <tr>\n",
       "      <th>1</th>\n",
       "      <td>Barajas</td>\n",
       "      <td>2007</td>\n",
       "      <td>2</td>\n",
       "      <td>11.199855</td>\n",
       "    </tr>\n",
       "    <tr>\n",
       "      <th>2</th>\n",
       "      <td>Carabanchel</td>\n",
       "      <td>2007</td>\n",
       "      <td>2</td>\n",
       "      <td>11.127661</td>\n",
       "    </tr>\n",
       "    <tr>\n",
       "      <th>3</th>\n",
       "      <td>Centro</td>\n",
       "      <td>2007</td>\n",
       "      <td>2</td>\n",
       "      <td>17.746404</td>\n",
       "    </tr>\n",
       "    <tr>\n",
       "      <th>4</th>\n",
       "      <td>Chamartín</td>\n",
       "      <td>2007</td>\n",
       "      <td>2</td>\n",
       "      <td>14.386480</td>\n",
       "    </tr>\n",
       "  </tbody>\n",
       "</table>\n",
       "</div>"
      ],
      "text/plain": [
       "      distrito  anyo  cuatrimestre     precio\n",
       "0   Arganzuela  2007             2  13.066587\n",
       "1      Barajas  2007             2  11.199855\n",
       "2  Carabanchel  2007             2  11.127661\n",
       "3       Centro  2007             2  17.746404\n",
       "4    Chamartín  2007             2  14.386480"
      ]
     },
     "execution_count": 1,
     "metadata": {},
     "output_type": "execute_result"
    }
   ],
   "source": [
    "import pandas as pd\n",
    "\n",
    "alquiler = pd.read_csv('alquiler-madrid-distritos.csv', index_col=False)\n",
    "alquiler.head()"
   ]
  },
  {
   "cell_type": "markdown",
   "metadata": {},
   "source": [
    "## Resumen estadístico\n",
    "\n",
    "Pandas provee una serie de funciones de resumen estadístico que podemos aplicar sobre una columna concreta, o sobre todas las del DataFrame."
   ]
  },
  {
   "cell_type": "markdown",
   "metadata": {},
   "source": [
    "Para un resumen para todas las columnas de número de filas, media, desviación estándar, cuartiles, ... usamos [`describe`](https://pandas.pydata.org/pandas-docs/stable/generated/pandas.DataFrame.describe.html)"
   ]
  },
  {
   "cell_type": "code",
   "execution_count": 2,
   "metadata": {},
   "outputs": [
    {
     "data": {
      "text/html": [
       "<div>\n",
       "<style scoped>\n",
       "    .dataframe tbody tr th:only-of-type {\n",
       "        vertical-align: middle;\n",
       "    }\n",
       "\n",
       "    .dataframe tbody tr th {\n",
       "        vertical-align: top;\n",
       "    }\n",
       "\n",
       "    .dataframe thead th {\n",
       "        text-align: right;\n",
       "    }\n",
       "</style>\n",
       "<table border=\"1\" class=\"dataframe\">\n",
       "  <thead>\n",
       "    <tr style=\"text-align: right;\">\n",
       "      <th></th>\n",
       "      <th>anyo</th>\n",
       "      <th>cuatrimestre</th>\n",
       "      <th>precio</th>\n",
       "    </tr>\n",
       "  </thead>\n",
       "  <tbody>\n",
       "    <tr>\n",
       "      <th>count</th>\n",
       "      <td>840.00000</td>\n",
       "      <td>840.00000</td>\n",
       "      <td>840.000000</td>\n",
       "    </tr>\n",
       "    <tr>\n",
       "      <th>mean</th>\n",
       "      <td>2012.90000</td>\n",
       "      <td>2.52500</td>\n",
       "      <td>11.545779</td>\n",
       "    </tr>\n",
       "    <tr>\n",
       "      <th>std</th>\n",
       "      <td>3.08242</td>\n",
       "      <td>1.11842</td>\n",
       "      <td>2.271275</td>\n",
       "    </tr>\n",
       "    <tr>\n",
       "      <th>min</th>\n",
       "      <td>2007.00000</td>\n",
       "      <td>1.00000</td>\n",
       "      <td>7.591541</td>\n",
       "    </tr>\n",
       "    <tr>\n",
       "      <th>25%</th>\n",
       "      <td>2010.75000</td>\n",
       "      <td>2.00000</td>\n",
       "      <td>9.853159</td>\n",
       "    </tr>\n",
       "    <tr>\n",
       "      <th>50%</th>\n",
       "      <td>2013.00000</td>\n",
       "      <td>2.00000</td>\n",
       "      <td>11.132781</td>\n",
       "    </tr>\n",
       "    <tr>\n",
       "      <th>75%</th>\n",
       "      <td>2015.25000</td>\n",
       "      <td>4.00000</td>\n",
       "      <td>12.996690</td>\n",
       "    </tr>\n",
       "    <tr>\n",
       "      <th>max</th>\n",
       "      <td>2018.00000</td>\n",
       "      <td>4.00000</td>\n",
       "      <td>19.308607</td>\n",
       "    </tr>\n",
       "  </tbody>\n",
       "</table>\n",
       "</div>"
      ],
      "text/plain": [
       "             anyo  cuatrimestre      precio\n",
       "count   840.00000     840.00000  840.000000\n",
       "mean   2012.90000       2.52500   11.545779\n",
       "std       3.08242       1.11842    2.271275\n",
       "min    2007.00000       1.00000    7.591541\n",
       "25%    2010.75000       2.00000    9.853159\n",
       "50%    2013.00000       2.00000   11.132781\n",
       "75%    2015.25000       4.00000   12.996690\n",
       "max    2018.00000       4.00000   19.308607"
      ]
     },
     "execution_count": 2,
     "metadata": {},
     "output_type": "execute_result"
    }
   ],
   "source": [
    "alquiler.describe()"
   ]
  },
  {
   "cell_type": "markdown",
   "metadata": {},
   "source": [
    "Podemos utilizar también `sum`, `mean`, `std`, `count`, `min`, `max`, ... sobre el DataFrame o una columna en concreto"
   ]
  },
  {
   "cell_type": "code",
   "execution_count": 3,
   "metadata": {},
   "outputs": [
    {
     "data": {
      "text/plain": [
       "anyo            2012.900000\n",
       "cuatrimestre       2.525000\n",
       "precio            11.545779\n",
       "dtype: float64"
      ]
     },
     "execution_count": 3,
     "metadata": {},
     "output_type": "execute_result"
    }
   ],
   "source": [
    "alquiler.mean()"
   ]
  },
  {
   "cell_type": "code",
   "execution_count": 4,
   "metadata": {},
   "outputs": [
    {
     "data": {
      "text/plain": [
       "19.3086068151837"
      ]
     },
     "execution_count": 4,
     "metadata": {},
     "output_type": "execute_result"
    }
   ],
   "source": [
    "alquiler.precio.max()"
   ]
  },
  {
   "cell_type": "markdown",
   "metadata": {},
   "source": [
    "## Agrupación\n",
    "\n",
    "También podemos agregar las tablas por un determinado criterio y sacar resúmenes de los grupos. Esta operación se hace en dos fases:\n",
    "\n",
    "* El `groupby`: donde especificamos la o las columnas por las que agregar\n",
    "* La aplicación de la función de agregación sobre una o varias columnas"
   ]
  },
  {
   "cell_type": "markdown",
   "metadata": {},
   "source": [
    "Un resumen usando una función de agregación sobre todas las columnas del DataFrame"
   ]
  },
  {
   "cell_type": "code",
   "execution_count": 5,
   "metadata": {},
   "outputs": [
    {
     "data": {
      "text/html": [
       "<div>\n",
       "<style scoped>\n",
       "    .dataframe tbody tr th:only-of-type {\n",
       "        vertical-align: middle;\n",
       "    }\n",
       "\n",
       "    .dataframe tbody tr th {\n",
       "        vertical-align: top;\n",
       "    }\n",
       "\n",
       "    .dataframe thead th {\n",
       "        text-align: right;\n",
       "    }\n",
       "</style>\n",
       "<table border=\"1\" class=\"dataframe\">\n",
       "  <thead>\n",
       "    <tr style=\"text-align: right;\">\n",
       "      <th></th>\n",
       "      <th>distrito</th>\n",
       "      <th>cuatrimestre</th>\n",
       "      <th>precio</th>\n",
       "    </tr>\n",
       "    <tr>\n",
       "      <th>anyo</th>\n",
       "      <th></th>\n",
       "      <th></th>\n",
       "      <th></th>\n",
       "    </tr>\n",
       "  </thead>\n",
       "  <tbody>\n",
       "    <tr>\n",
       "      <th>2007</th>\n",
       "      <td>Villaverde</td>\n",
       "      <td>4</td>\n",
       "      <td>18.044594</td>\n",
       "    </tr>\n",
       "    <tr>\n",
       "      <th>2008</th>\n",
       "      <td>Villaverde</td>\n",
       "      <td>4</td>\n",
       "      <td>17.618608</td>\n",
       "    </tr>\n",
       "    <tr>\n",
       "      <th>2009</th>\n",
       "      <td>Villaverde</td>\n",
       "      <td>4</td>\n",
       "      <td>15.788713</td>\n",
       "    </tr>\n",
       "    <tr>\n",
       "      <th>2010</th>\n",
       "      <td>Villaverde</td>\n",
       "      <td>4</td>\n",
       "      <td>15.564614</td>\n",
       "    </tr>\n",
       "    <tr>\n",
       "      <th>2011</th>\n",
       "      <td>Villaverde</td>\n",
       "      <td>4</td>\n",
       "      <td>15.078333</td>\n",
       "    </tr>\n",
       "    <tr>\n",
       "      <th>2012</th>\n",
       "      <td>Villaverde</td>\n",
       "      <td>4</td>\n",
       "      <td>14.822377</td>\n",
       "    </tr>\n",
       "    <tr>\n",
       "      <th>2013</th>\n",
       "      <td>Villaverde</td>\n",
       "      <td>4</td>\n",
       "      <td>13.704467</td>\n",
       "    </tr>\n",
       "    <tr>\n",
       "      <th>2014</th>\n",
       "      <td>Villaverde</td>\n",
       "      <td>4</td>\n",
       "      <td>13.965912</td>\n",
       "    </tr>\n",
       "    <tr>\n",
       "      <th>2015</th>\n",
       "      <td>Villaverde</td>\n",
       "      <td>4</td>\n",
       "      <td>15.251220</td>\n",
       "    </tr>\n",
       "    <tr>\n",
       "      <th>2016</th>\n",
       "      <td>Villaverde</td>\n",
       "      <td>4</td>\n",
       "      <td>17.693730</td>\n",
       "    </tr>\n",
       "    <tr>\n",
       "      <th>2017</th>\n",
       "      <td>Villaverde</td>\n",
       "      <td>4</td>\n",
       "      <td>19.019364</td>\n",
       "    </tr>\n",
       "    <tr>\n",
       "      <th>2018</th>\n",
       "      <td>Villaverde</td>\n",
       "      <td>2</td>\n",
       "      <td>19.308607</td>\n",
       "    </tr>\n",
       "  </tbody>\n",
       "</table>\n",
       "</div>"
      ],
      "text/plain": [
       "        distrito  cuatrimestre     precio\n",
       "anyo                                     \n",
       "2007  Villaverde             4  18.044594\n",
       "2008  Villaverde             4  17.618608\n",
       "2009  Villaverde             4  15.788713\n",
       "2010  Villaverde             4  15.564614\n",
       "2011  Villaverde             4  15.078333\n",
       "2012  Villaverde             4  14.822377\n",
       "2013  Villaverde             4  13.704467\n",
       "2014  Villaverde             4  13.965912\n",
       "2015  Villaverde             4  15.251220\n",
       "2016  Villaverde             4  17.693730\n",
       "2017  Villaverde             4  19.019364\n",
       "2018  Villaverde             2  19.308607"
      ]
     },
     "execution_count": 5,
     "metadata": {},
     "output_type": "execute_result"
    }
   ],
   "source": [
    "alquiler.groupby('anyo').max()\n",
    "\n",
    "# Atención, fíjate bien en lo que hace esto. Saca el valor máximo de distrito (alfabéticamente),\n",
    "#  de cuatrimestre y precio (numéricamente), pero no representa filas completas\n",
    "# Es decir, Villaverde en el cuatrimestre 4 no tuvo ese precio"
   ]
  },
  {
   "cell_type": "markdown",
   "metadata": {},
   "source": [
    "Para hacerlo únicamente sobre una columna:"
   ]
  },
  {
   "cell_type": "code",
   "execution_count": 6,
   "metadata": {},
   "outputs": [
    {
     "data": {
      "text/plain": [
       "anyo\n",
       "2007     9.592651\n",
       "2008    10.628444\n",
       "2009     9.764769\n",
       "2010     9.279254\n",
       "2011     9.089262\n",
       "2012     8.693941\n",
       "2013     7.933318\n",
       "2014     7.591541\n",
       "2015     7.754823\n",
       "2016     8.183480\n",
       "2017     9.210458\n",
       "2018     9.962139\n",
       "Name: precio, dtype: float64"
      ]
     },
     "execution_count": 6,
     "metadata": {},
     "output_type": "execute_result"
    }
   ],
   "source": [
    "alquiler.groupby('anyo').precio.min()\n",
    "\n",
    "#Aquí sí se muestra el precio mínimo de todos los distritos en cada año"
   ]
  },
  {
   "cell_type": "markdown",
   "metadata": {},
   "source": [
    "Para aplicar diferentes resúmenes sobre diferentes columnas podemos usar `agg` con la operación que se desea realizar para cada columna:"
   ]
  },
  {
   "cell_type": "code",
   "execution_count": 7,
   "metadata": {},
   "outputs": [
    {
     "data": {
      "text/html": [
       "<div>\n",
       "<style scoped>\n",
       "    .dataframe tbody tr th:only-of-type {\n",
       "        vertical-align: middle;\n",
       "    }\n",
       "\n",
       "    .dataframe tbody tr th {\n",
       "        vertical-align: top;\n",
       "    }\n",
       "\n",
       "    .dataframe thead th {\n",
       "        text-align: right;\n",
       "    }\n",
       "</style>\n",
       "<table border=\"1\" class=\"dataframe\">\n",
       "  <thead>\n",
       "    <tr style=\"text-align: right;\">\n",
       "      <th></th>\n",
       "      <th>precio</th>\n",
       "      <th>distrito</th>\n",
       "    </tr>\n",
       "    <tr>\n",
       "      <th>anyo</th>\n",
       "      <th></th>\n",
       "      <th></th>\n",
       "    </tr>\n",
       "  </thead>\n",
       "  <tbody>\n",
       "    <tr>\n",
       "      <th>2007</th>\n",
       "      <td>12.679226</td>\n",
       "      <td>Arganzuela</td>\n",
       "    </tr>\n",
       "    <tr>\n",
       "      <th>2008</th>\n",
       "      <td>12.963422</td>\n",
       "      <td>Arganzuela</td>\n",
       "    </tr>\n",
       "    <tr>\n",
       "      <th>2009</th>\n",
       "      <td>11.900691</td>\n",
       "      <td>Arganzuela</td>\n",
       "    </tr>\n",
       "    <tr>\n",
       "      <th>2010</th>\n",
       "      <td>11.608368</td>\n",
       "      <td>Arganzuela</td>\n",
       "    </tr>\n",
       "    <tr>\n",
       "      <th>2011</th>\n",
       "      <td>11.461966</td>\n",
       "      <td>Arganzuela</td>\n",
       "    </tr>\n",
       "    <tr>\n",
       "      <th>2012</th>\n",
       "      <td>11.021184</td>\n",
       "      <td>Arganzuela</td>\n",
       "    </tr>\n",
       "    <tr>\n",
       "      <th>2013</th>\n",
       "      <td>10.382165</td>\n",
       "      <td>Arganzuela</td>\n",
       "    </tr>\n",
       "    <tr>\n",
       "      <th>2014</th>\n",
       "      <td>10.252846</td>\n",
       "      <td>Arganzuela</td>\n",
       "    </tr>\n",
       "    <tr>\n",
       "      <th>2015</th>\n",
       "      <td>10.689535</td>\n",
       "      <td>Arganzuela</td>\n",
       "    </tr>\n",
       "    <tr>\n",
       "      <th>2016</th>\n",
       "      <td>11.686872</td>\n",
       "      <td>Arganzuela</td>\n",
       "    </tr>\n",
       "    <tr>\n",
       "      <th>2017</th>\n",
       "      <td>12.840758</td>\n",
       "      <td>Arganzuela</td>\n",
       "    </tr>\n",
       "    <tr>\n",
       "      <th>2018</th>\n",
       "      <td>13.484852</td>\n",
       "      <td>Arganzuela</td>\n",
       "    </tr>\n",
       "  </tbody>\n",
       "</table>\n",
       "</div>"
      ],
      "text/plain": [
       "         precio    distrito\n",
       "anyo                       \n",
       "2007  12.679226  Arganzuela\n",
       "2008  12.963422  Arganzuela\n",
       "2009  11.900691  Arganzuela\n",
       "2010  11.608368  Arganzuela\n",
       "2011  11.461966  Arganzuela\n",
       "2012  11.021184  Arganzuela\n",
       "2013  10.382165  Arganzuela\n",
       "2014  10.252846  Arganzuela\n",
       "2015  10.689535  Arganzuela\n",
       "2016  11.686872  Arganzuela\n",
       "2017  12.840758  Arganzuela\n",
       "2018  13.484852  Arganzuela"
      ]
     },
     "execution_count": 7,
     "metadata": {},
     "output_type": "execute_result"
    }
   ],
   "source": [
    "tmp = alquiler.groupby('anyo').agg({'precio': 'mean', 'distrito': 'first'})\n",
    "tmp"
   ]
  },
  {
   "cell_type": "markdown",
   "metadata": {},
   "source": [
    "Puedes ver más información sobre agrupaciones en la [documentación de pandas](https://pandas.pydata.org/pandas-docs/stable/groupby.html). Es especialmente útil la parte sobre transformaciones."
   ]
  },
  {
   "cell_type": "markdown",
   "metadata": {},
   "source": [
    "## Cruce\n",
    "\n",
    "Podemos cruzar dos tablas por una o varias columnas en pandas con [`merge`](https://pandas.pydata.org/pandas-docs/stable/generated/pandas.DataFrame.merge.html). También podemos usar los distintos tipos de cruce:\n",
    "\n",
    "* `inner`: para obtener solamente los registros que crucen en ambas tablas (valor por defecto)\n",
    "* `left` o `right`: para mantener los registros de una de las dos tablas, crucen o no con la otra\n",
    "* `outer`: para mantener los registros de ambas tablas, crucen o no"
   ]
  },
  {
   "cell_type": "code",
   "execution_count": 8,
   "metadata": {},
   "outputs": [
    {
     "data": {
      "text/html": [
       "<div>\n",
       "<style scoped>\n",
       "    .dataframe tbody tr th:only-of-type {\n",
       "        vertical-align: middle;\n",
       "    }\n",
       "\n",
       "    .dataframe tbody tr th {\n",
       "        vertical-align: top;\n",
       "    }\n",
       "\n",
       "    .dataframe thead th {\n",
       "        text-align: right;\n",
       "    }\n",
       "</style>\n",
       "<table border=\"1\" class=\"dataframe\">\n",
       "  <thead>\n",
       "    <tr style=\"text-align: right;\">\n",
       "      <th></th>\n",
       "      <th>distrito</th>\n",
       "      <th>poblacion</th>\n",
       "    </tr>\n",
       "  </thead>\n",
       "  <tbody>\n",
       "    <tr>\n",
       "      <th>0</th>\n",
       "      <td>Moratalaz</td>\n",
       "      <td>95000</td>\n",
       "    </tr>\n",
       "    <tr>\n",
       "      <th>1</th>\n",
       "      <td>Centro</td>\n",
       "      <td>150000</td>\n",
       "    </tr>\n",
       "    <tr>\n",
       "      <th>2</th>\n",
       "      <td>Barajas</td>\n",
       "      <td>46000</td>\n",
       "    </tr>\n",
       "  </tbody>\n",
       "</table>\n",
       "</div>"
      ],
      "text/plain": [
       "    distrito  poblacion\n",
       "0  Moratalaz      95000\n",
       "1     Centro     150000\n",
       "2    Barajas      46000"
      ]
     },
     "execution_count": 8,
     "metadata": {},
     "output_type": "execute_result"
    }
   ],
   "source": [
    "# Aquí, además, un ejemplo de cómo crear un dataframe a partir de un diccionario\n",
    "df_ejemplo = pd.DataFrame({'distrito':  ['Moratalaz', 'Centro', 'Barajas'],\n",
    "                           'poblacion': [95000, 150000, 46000]})\n",
    "df_ejemplo"
   ]
  },
  {
   "cell_type": "code",
   "execution_count": 20,
   "metadata": {},
   "outputs": [
    {
     "data": {
      "text/html": [
       "<div>\n",
       "<style scoped>\n",
       "    .dataframe tbody tr th:only-of-type {\n",
       "        vertical-align: middle;\n",
       "    }\n",
       "\n",
       "    .dataframe tbody tr th {\n",
       "        vertical-align: top;\n",
       "    }\n",
       "\n",
       "    .dataframe thead th {\n",
       "        text-align: right;\n",
       "    }\n",
       "</style>\n",
       "<table border=\"1\" class=\"dataframe\">\n",
       "  <thead>\n",
       "    <tr style=\"text-align: right;\">\n",
       "      <th></th>\n",
       "      <th>distrito</th>\n",
       "      <th>poblacion</th>\n",
       "      <th>anyo</th>\n",
       "      <th>cuatrimestre</th>\n",
       "      <th>precio</th>\n",
       "    </tr>\n",
       "  </thead>\n",
       "  <tbody>\n",
       "    <tr>\n",
       "      <th>0</th>\n",
       "      <td>Moratalaz</td>\n",
       "      <td>95000</td>\n",
       "      <td>2007</td>\n",
       "      <td>2</td>\n",
       "      <td>11.498611</td>\n",
       "    </tr>\n",
       "    <tr>\n",
       "      <th>1</th>\n",
       "      <td>Moratalaz</td>\n",
       "      <td>95000</td>\n",
       "      <td>2007</td>\n",
       "      <td>4</td>\n",
       "      <td>11.117894</td>\n",
       "    </tr>\n",
       "    <tr>\n",
       "      <th>2</th>\n",
       "      <td>Moratalaz</td>\n",
       "      <td>95000</td>\n",
       "      <td>2008</td>\n",
       "      <td>2</td>\n",
       "      <td>11.925685</td>\n",
       "    </tr>\n",
       "    <tr>\n",
       "      <th>3</th>\n",
       "      <td>Moratalaz</td>\n",
       "      <td>95000</td>\n",
       "      <td>2008</td>\n",
       "      <td>4</td>\n",
       "      <td>10.966299</td>\n",
       "    </tr>\n",
       "    <tr>\n",
       "      <th>4</th>\n",
       "      <td>Moratalaz</td>\n",
       "      <td>95000</td>\n",
       "      <td>2009</td>\n",
       "      <td>2</td>\n",
       "      <td>10.229014</td>\n",
       "    </tr>\n",
       "  </tbody>\n",
       "</table>\n",
       "</div>"
      ],
      "text/plain": [
       "    distrito  poblacion  anyo  cuatrimestre     precio\n",
       "0  Moratalaz      95000  2007             2  11.498611\n",
       "1  Moratalaz      95000  2007             4  11.117894\n",
       "2  Moratalaz      95000  2008             2  11.925685\n",
       "3  Moratalaz      95000  2008             4  10.966299\n",
       "4  Moratalaz      95000  2009             2  10.229014"
      ]
     },
     "execution_count": 20,
     "metadata": {},
     "output_type": "execute_result"
    }
   ],
   "source": [
    "tmp = df_ejemplo.merge(alquiler, on='distrito', how='inner')  #Sería lo mismo hacer: df_ejemplo.merge(alquiler, on='distrito')\n",
    "tmp.head()"
   ]
  },
  {
   "cell_type": "markdown",
   "metadata": {},
   "source": [
    "En este caso, solamente tenemos en el dataframe `tmp` las filas de los distritos que aparecen en ambos dataframes"
   ]
  },
  {
   "cell_type": "code",
   "execution_count": 10,
   "metadata": {},
   "outputs": [
    {
     "data": {
      "text/plain": [
       "120"
      ]
     },
     "execution_count": 10,
     "metadata": {},
     "output_type": "execute_result"
    }
   ],
   "source": [
    "len(tmp)"
   ]
  },
  {
   "cell_type": "code",
   "execution_count": 11,
   "metadata": {},
   "outputs": [
    {
     "data": {
      "text/html": [
       "<div>\n",
       "<style scoped>\n",
       "    .dataframe tbody tr th:only-of-type {\n",
       "        vertical-align: middle;\n",
       "    }\n",
       "\n",
       "    .dataframe tbody tr th {\n",
       "        vertical-align: top;\n",
       "    }\n",
       "\n",
       "    .dataframe thead th {\n",
       "        text-align: right;\n",
       "    }\n",
       "</style>\n",
       "<table border=\"1\" class=\"dataframe\">\n",
       "  <thead>\n",
       "    <tr style=\"text-align: right;\">\n",
       "      <th></th>\n",
       "      <th>distrito</th>\n",
       "      <th>poblacion</th>\n",
       "      <th>anyo</th>\n",
       "      <th>cuatrimestre</th>\n",
       "      <th>precio</th>\n",
       "    </tr>\n",
       "  </thead>\n",
       "  <tbody>\n",
       "    <tr>\n",
       "      <th>835</th>\n",
       "      <td>Tetuan</td>\n",
       "      <td>NaN</td>\n",
       "      <td>2018</td>\n",
       "      <td>2</td>\n",
       "      <td>15.114558</td>\n",
       "    </tr>\n",
       "    <tr>\n",
       "      <th>836</th>\n",
       "      <td>Usera</td>\n",
       "      <td>NaN</td>\n",
       "      <td>2018</td>\n",
       "      <td>2</td>\n",
       "      <td>11.533458</td>\n",
       "    </tr>\n",
       "    <tr>\n",
       "      <th>837</th>\n",
       "      <td>Vicálvaro</td>\n",
       "      <td>NaN</td>\n",
       "      <td>2018</td>\n",
       "      <td>2</td>\n",
       "      <td>9.962139</td>\n",
       "    </tr>\n",
       "    <tr>\n",
       "      <th>838</th>\n",
       "      <td>Villa De Vallecas</td>\n",
       "      <td>NaN</td>\n",
       "      <td>2018</td>\n",
       "      <td>2</td>\n",
       "      <td>10.915967</td>\n",
       "    </tr>\n",
       "    <tr>\n",
       "      <th>839</th>\n",
       "      <td>Villaverde</td>\n",
       "      <td>NaN</td>\n",
       "      <td>2018</td>\n",
       "      <td>2</td>\n",
       "      <td>10.427527</td>\n",
       "    </tr>\n",
       "  </tbody>\n",
       "</table>\n",
       "</div>"
      ],
      "text/plain": [
       "              distrito  poblacion  anyo  cuatrimestre     precio\n",
       "835             Tetuan        NaN  2018             2  15.114558\n",
       "836              Usera        NaN  2018             2  11.533458\n",
       "837          Vicálvaro        NaN  2018             2   9.962139\n",
       "838  Villa De Vallecas        NaN  2018             2  10.915967\n",
       "839         Villaverde        NaN  2018             2  10.427527"
      ]
     },
     "execution_count": 11,
     "metadata": {},
     "output_type": "execute_result"
    }
   ],
   "source": [
    "tmp = df_ejemplo.merge(alquiler, on='distrito', how='right')\n",
    "tmp.tail()"
   ]
  },
  {
   "cell_type": "markdown",
   "metadata": {},
   "source": [
    "En este caso, tenemos en el dataframe `tmp` las filas de los distritos que aparecen en el dataframe `alquiler`. Para los distritos que no aparecen en el dataframe `df_ejemplo` tenemos el valor NaN en la columna `poblacion`"
   ]
  },
  {
   "cell_type": "code",
   "execution_count": 12,
   "metadata": {},
   "outputs": [
    {
     "data": {
      "text/plain": [
       "840"
      ]
     },
     "execution_count": 12,
     "metadata": {},
     "output_type": "execute_result"
    }
   ],
   "source": [
    "len(tmp)"
   ]
  },
  {
   "cell_type": "markdown",
   "metadata": {},
   "source": [
    "## Visualización\n",
    "\n",
    "Si ya tenemos los datos en un `DataFrame` y no necesitamos gráficos muy específicos, podemos utilizar la función [`plot`](https://pandas.pydata.org/pandas-docs/stable/generated/pandas.DataFrame.plot.html) que ofrece `pandas`.\n",
    "\n",
    "Aplicando la función `plot` sobre el DataFrame obtenemos un gráfico de todas las columnas."
   ]
  },
  {
   "cell_type": "code",
   "execution_count": 13,
   "metadata": {},
   "outputs": [
    {
     "data": {
      "image/png": "[encoded data removed]",
      "text/plain": [
       "<Figure size 432x288 with 3 Axes>"
      ]
     },
     "metadata": {
      "needs_background": "light"
     },
     "output_type": "display_data"
    }
   ],
   "source": [
    "out = alquiler.plot(subplots=True)"
   ]
  },
  {
   "cell_type": "markdown",
   "metadata": {},
   "source": [
    "En la documentación de [`plot`](https://pandas.pydata.org/pandas-docs/stable/generated/pandas.DataFrame.plot.html) se indica cómo modificar los parámetros fundamentales del gráfico, como a continuación:"
   ]
  },
  {
   "cell_type": "code",
   "execution_count": 14,
   "metadata": {},
   "outputs": [
    {
     "data": {
      "image/png": "[encoded data removed]",
      "text/plain": [
       "<Figure size 1080x720 with 3 Axes>"
      ]
     },
     "metadata": {
      "needs_background": "light"
     },
     "output_type": "display_data"
    }
   ],
   "source": [
    "out = alquiler.plot(subplots=True, figsize = (15, 10))"
   ]
  },
  {
   "cell_type": "markdown",
   "metadata": {},
   "source": [
    "Podemos pintar un gráfico especificando el tipo, el eje x y el eje y. Por ejemplo, para ver la evolución del precio a comienzo de cada año en un distrito concreto."
   ]
  },
  {
   "cell_type": "code",
   "execution_count": 15,
   "metadata": {
    "scrolled": false
   },
   "outputs": [
    {
     "data": {
      "image/png": "[encoded data removed]",
      "text/plain": [
       "<Figure size 432x288 with 1 Axes>"
      ]
     },
     "metadata": {
      "needs_background": "light"
     },
     "output_type": "display_data"
    }
   ],
   "source": [
    "out = alquiler[(alquiler.distrito == 'San Blas') & (alquiler.cuatrimestre == 1)].plot(kind='scatter', x='anyo', y='precio')"
   ]
  },
  {
   "cell_type": "markdown",
   "metadata": {},
   "source": [
    "Ejemplo de un histograma sobre la columna `precio`, restringiendo por año y cuatrimestre:"
   ]
  },
  {
   "cell_type": "code",
   "execution_count": 16,
   "metadata": {
    "scrolled": true
   },
   "outputs": [
    {
     "data": {
      "image/png": "[encoded data removed]",
      "text/plain": [
       "<Figure size 432x288 with 1 Axes>"
      ]
     },
     "metadata": {
      "needs_background": "light"
     },
     "output_type": "display_data"
    }
   ],
   "source": [
    "out = alquiler[(alquiler.anyo == 2017) & (alquiler.cuatrimestre == 1)].precio.plot(kind='hist')"
   ]
  },
  {
   "cell_type": "code",
   "execution_count": 17,
   "metadata": {},
   "outputs": [
    {
     "data": {
      "text/html": [
       "<div>\n",
       "<style scoped>\n",
       "    .dataframe tbody tr th:only-of-type {\n",
       "        vertical-align: middle;\n",
       "    }\n",
       "\n",
       "    .dataframe tbody tr th {\n",
       "        vertical-align: top;\n",
       "    }\n",
       "\n",
       "    .dataframe thead th {\n",
       "        text-align: right;\n",
       "    }\n",
       "</style>\n",
       "<table border=\"1\" class=\"dataframe\">\n",
       "  <thead>\n",
       "    <tr style=\"text-align: right;\">\n",
       "      <th></th>\n",
       "      <th>distrito</th>\n",
       "      <th>anyo</th>\n",
       "      <th>cuatrimestre</th>\n",
       "      <th>precio</th>\n",
       "    </tr>\n",
       "  </thead>\n",
       "  <tbody>\n",
       "    <tr>\n",
       "      <th>732</th>\n",
       "      <td>Vicálvaro</td>\n",
       "      <td>2017</td>\n",
       "      <td>1</td>\n",
       "      <td>9.210458</td>\n",
       "    </tr>\n",
       "    <tr>\n",
       "      <th>734</th>\n",
       "      <td>Villaverde</td>\n",
       "      <td>2017</td>\n",
       "      <td>1</td>\n",
       "      <td>9.494562</td>\n",
       "    </tr>\n",
       "    <tr>\n",
       "      <th>733</th>\n",
       "      <td>Villa De Vallecas</td>\n",
       "      <td>2017</td>\n",
       "      <td>1</td>\n",
       "      <td>9.601610</td>\n",
       "    </tr>\n",
       "    <tr>\n",
       "      <th>731</th>\n",
       "      <td>Usera</td>\n",
       "      <td>2017</td>\n",
       "      <td>1</td>\n",
       "      <td>9.832728</td>\n",
       "    </tr>\n",
       "    <tr>\n",
       "      <th>726</th>\n",
       "      <td>Puente De Vallecas</td>\n",
       "      <td>2017</td>\n",
       "      <td>1</td>\n",
       "      <td>10.155772</td>\n",
       "    </tr>\n",
       "    <tr>\n",
       "      <th>725</th>\n",
       "      <td>Moratalaz</td>\n",
       "      <td>2017</td>\n",
       "      <td>1</td>\n",
       "      <td>10.229891</td>\n",
       "    </tr>\n",
       "    <tr>\n",
       "      <th>716</th>\n",
       "      <td>Carabanchel</td>\n",
       "      <td>2017</td>\n",
       "      <td>1</td>\n",
       "      <td>10.608362</td>\n",
       "    </tr>\n",
       "    <tr>\n",
       "      <th>729</th>\n",
       "      <td>San Blas</td>\n",
       "      <td>2017</td>\n",
       "      <td>1</td>\n",
       "      <td>10.774331</td>\n",
       "    </tr>\n",
       "    <tr>\n",
       "      <th>723</th>\n",
       "      <td>Latina</td>\n",
       "      <td>2017</td>\n",
       "      <td>1</td>\n",
       "      <td>10.899324</td>\n",
       "    </tr>\n",
       "    <tr>\n",
       "      <th>721</th>\n",
       "      <td>Fuencarral</td>\n",
       "      <td>2017</td>\n",
       "      <td>1</td>\n",
       "      <td>11.508508</td>\n",
       "    </tr>\n",
       "    <tr>\n",
       "      <th>715</th>\n",
       "      <td>Barajas</td>\n",
       "      <td>2017</td>\n",
       "      <td>1</td>\n",
       "      <td>11.588163</td>\n",
       "    </tr>\n",
       "    <tr>\n",
       "      <th>722</th>\n",
       "      <td>Hortaleza</td>\n",
       "      <td>2017</td>\n",
       "      <td>1</td>\n",
       "      <td>11.887551</td>\n",
       "    </tr>\n",
       "    <tr>\n",
       "      <th>720</th>\n",
       "      <td>Ciudad Lineal</td>\n",
       "      <td>2017</td>\n",
       "      <td>1</td>\n",
       "      <td>12.116641</td>\n",
       "    </tr>\n",
       "    <tr>\n",
       "      <th>714</th>\n",
       "      <td>Arganzuela</td>\n",
       "      <td>2017</td>\n",
       "      <td>1</td>\n",
       "      <td>14.130488</td>\n",
       "    </tr>\n",
       "    <tr>\n",
       "      <th>730</th>\n",
       "      <td>Tetuan</td>\n",
       "      <td>2017</td>\n",
       "      <td>1</td>\n",
       "      <td>14.528777</td>\n",
       "    </tr>\n",
       "    <tr>\n",
       "      <th>727</th>\n",
       "      <td>Retiro</td>\n",
       "      <td>2017</td>\n",
       "      <td>1</td>\n",
       "      <td>14.907458</td>\n",
       "    </tr>\n",
       "    <tr>\n",
       "      <th>718</th>\n",
       "      <td>Chamartín</td>\n",
       "      <td>2017</td>\n",
       "      <td>1</td>\n",
       "      <td>15.079430</td>\n",
       "    </tr>\n",
       "    <tr>\n",
       "      <th>724</th>\n",
       "      <td>Moncloa</td>\n",
       "      <td>2017</td>\n",
       "      <td>1</td>\n",
       "      <td>15.094466</td>\n",
       "    </tr>\n",
       "    <tr>\n",
       "      <th>719</th>\n",
       "      <td>Chamberí</td>\n",
       "      <td>2017</td>\n",
       "      <td>1</td>\n",
       "      <td>16.674730</td>\n",
       "    </tr>\n",
       "    <tr>\n",
       "      <th>728</th>\n",
       "      <td>Salamanca</td>\n",
       "      <td>2017</td>\n",
       "      <td>1</td>\n",
       "      <td>17.343830</td>\n",
       "    </tr>\n",
       "    <tr>\n",
       "      <th>717</th>\n",
       "      <td>Centro</td>\n",
       "      <td>2017</td>\n",
       "      <td>1</td>\n",
       "      <td>18.605873</td>\n",
       "    </tr>\n",
       "  </tbody>\n",
       "</table>\n",
       "</div>"
      ],
      "text/plain": [
       "               distrito  anyo  cuatrimestre     precio\n",
       "732           Vicálvaro  2017             1   9.210458\n",
       "734          Villaverde  2017             1   9.494562\n",
       "733   Villa De Vallecas  2017             1   9.601610\n",
       "731               Usera  2017             1   9.832728\n",
       "726  Puente De Vallecas  2017             1  10.155772\n",
       "725           Moratalaz  2017             1  10.229891\n",
       "716         Carabanchel  2017             1  10.608362\n",
       "729            San Blas  2017             1  10.774331\n",
       "723              Latina  2017             1  10.899324\n",
       "721          Fuencarral  2017             1  11.508508\n",
       "715             Barajas  2017             1  11.588163\n",
       "722           Hortaleza  2017             1  11.887551\n",
       "720       Ciudad Lineal  2017             1  12.116641\n",
       "714          Arganzuela  2017             1  14.130488\n",
       "730              Tetuan  2017             1  14.528777\n",
       "727              Retiro  2017             1  14.907458\n",
       "718           Chamartín  2017             1  15.079430\n",
       "724             Moncloa  2017             1  15.094466\n",
       "719            Chamberí  2017             1  16.674730\n",
       "728           Salamanca  2017             1  17.343830\n",
       "717              Centro  2017             1  18.605873"
      ]
     },
     "execution_count": 17,
     "metadata": {},
     "output_type": "execute_result"
    }
   ],
   "source": [
    "alquiler[(alquiler.anyo == 2017) & (alquiler.cuatrimestre == 1)].sort_values('precio')  #Datos utilizados para el histograma"
   ]
  },
  {
   "cell_type": "markdown",
   "metadata": {},
   "source": [
    "Para los histogramas y boxplots tenemos una interfaz más avanzada que podemos usar:\n",
    "\n",
    "* [`boxplot`](https://pandas.pydata.org/pandas-docs/stable/generated/pandas.DataFrame.boxplot.html)\n",
    "* [`hist`](https://pandas.pydata.org/pandas-docs/stable/generated/pandas.DataFrame.hist.html)"
   ]
  },
  {
   "cell_type": "markdown",
   "metadata": {},
   "source": [
    "Por ejemplo, para pintar los boxplots de precios por distrito."
   ]
  },
  {
   "cell_type": "code",
   "execution_count": 18,
   "metadata": {},
   "outputs": [
    {
     "data": {
      "image/png": "[encoded data removed]",
      "text/plain": [
       "<Figure size 1080x360 with 1 Axes>"
      ]
     },
     "metadata": {
      "needs_background": "light"
     },
     "output_type": "display_data"
    }
   ],
   "source": [
    "out = alquiler.boxplot('precio', by='distrito', figsize=(15, 5), rot=90)"
   ]
  },
  {
   "cell_type": "code",
   "execution_count": null,
   "metadata": {},
   "outputs": [],
   "source": []
  }
 ],
 "metadata": {
  "kernelspec": {
   "display_name": "Python 3",
   "language": "python",
   "name": "python3"
  },
  "language_info": {
   "codemirror_mode": {
    "name": "ipython",
    "version": 3
   },
   "file_extension": ".py",
   "mimetype": "text/x-python",
   "name": "python",
   "nbconvert_exporter": "python",
   "pygments_lexer": "ipython3",
   "version": "3.8.8"
  }
 },
 "nbformat": 4,
 "nbformat_minor": 2
}
