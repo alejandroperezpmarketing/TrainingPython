{
 "cells": [
  {
   "cell_type": "markdown",
   "id": "176a1016",
   "metadata": {},
   "source": [
    "# Práctica 3: tipos de datos estructurados"
   ]
  },
  {
   "cell_type": "markdown",
   "id": "d82da5a6",
   "metadata": {},
   "source": [
    "La práctica consiste en implementar un programa (con varias funciones) que sea capaz de leer un conjunto de coordenadas en sexagesimal y generar un fichero GeoJSON con dichas coordenadas en formato decimal.  "
   ]
  },
  {
   "cell_type": "markdown",
   "id": "a422de8f",
   "metadata": {},
   "source": [
    "### Ejercicio 1\n",
    "\n",
    "Escribe una función (con `def`, ver tema 1) que reciba un string con el formato de la coordenada de entrada y devuelva una **lista** con el formato `[ID, LAT, LON]`, con `LAT` y `LON` en formato decimal. El formato de cada coordenada de entrada es: \"ID GLat MLat SLat H GLon MLon SLon H'\". Por ejemplo: 'ALAC\t38 20 20.10357 N\t0 28 52.43704 W'."
   ]
  },
  {
   "cell_type": "code",
   "execution_count": null,
   "id": "95e393c4",
   "metadata": {},
   "outputs": [],
   "source": []
  },
  {
   "cell_type": "markdown",
   "id": "9220e7a4",
   "metadata": {},
   "source": [
    "### Ejercicio 2\n",
    "\n",
    "Escribe una función (con `def`, ver tema 1) que reciba una lista con el formato `[ID, LAT, LON]` (es decir, una lista devuelta por la función del ejercicio anterior) y genere y retorne un diccionario que siga el formato de una `feature` del formato GeoJSON, tal y como hemos visto en clase. Las entradas `type` y  `geometry` serán como en el ejemplo visto en clase y la entrada `properties` únicamente incluirá el identificador del punto con la clave `ID`. Por ejemplo, para la coordenada 'ALAC\t38 20 20.10357 N\t0 28 52.43704 W' se obtendrá el diccionario: \n",
    "\n",
    "       `{\n",
    "            \"type\": \"Feature\",\n",
    "            \"geometry\": {\n",
    "                \"type\": \"Point\",\n",
    "                \"coordinates\": [\n",
    "                    -0.4812325111111111,\n",
    "                    38.33891765833334\n",
    "                ]\n",
    "            },\n",
    "            \"properties\": {\n",
    "                \"ID\": \"ALAC\"\n",
    "            }\n",
    "        }`"
   ]
  },
  {
   "cell_type": "code",
   "execution_count": null,
   "id": "88eb4425",
   "metadata": {},
   "outputs": [],
   "source": []
  },
  {
   "cell_type": "markdown",
   "id": "b8f58840",
   "metadata": {},
   "source": [
    "### Ejercicio 3 - Programa principal\n",
    "\n",
    "Dado el conjunto de puntos siguiente, genera un diccionario que siga el formato GeoJSON, incluyendo todos los puntos en la entrada `features`, como hemos visto en clase. Guarda este diccionario en un fichero denominado `points.geojson`."
   ]
  },
  {
   "cell_type": "code",
   "execution_count": 5,
   "id": "df77708e",
   "metadata": {},
   "outputs": [],
   "source": [
    "##MAIN\n",
    "import json\n",
    "\n",
    "points = ['ALAC\t38 20 20.10357 N\t0 28 52.43704 W',\n",
    "          'IBIZ\t38 54 40.48311 N\t1 26 56.26399 E',\n",
    "          'PENI\t40 23 44.42149 N\t0 21 32.12260 E',\n",
    "          'VALE\t39 28 50.97045 N\t0 20 15.54340 W']\n",
    "\n"
   ]
  }
 ],
 "metadata": {
  "kernelspec": {
   "display_name": "Python 3",
   "language": "python",
   "name": "python3"
  },
  "language_info": {
   "codemirror_mode": {
    "name": "ipython",
    "version": 3
   },
   "file_extension": ".py",
   "mimetype": "text/x-python",
   "name": "python",
   "nbconvert_exporter": "python",
   "pygments_lexer": "ipython3",
   "version": "3.8.8"
  }
 },
 "nbformat": 4,
 "nbformat_minor": 5
}
