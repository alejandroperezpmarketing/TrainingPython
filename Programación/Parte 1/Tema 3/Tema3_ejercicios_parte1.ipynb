{
 "cells": [
  {
   "cell_type": "markdown",
   "id": "5bc76fc8",
   "metadata": {},
   "source": [
    "# Ejercicios del tema 3 - parte 1"
   ]
  },
  {
   "cell_type": "markdown",
   "id": "629b8b6c",
   "metadata": {},
   "source": [
    "### Ejercicio 1\n",
    "\n",
    "Dada la palabra Toscana, escribe las instrucciones de slicing de cadenas necesarias para extraer las siguientes subcadenas: 'Tosc', 'cana', 'can'."
   ]
  },
  {
   "cell_type": "code",
   "execution_count": null,
   "id": "71271d00",
   "metadata": {},
   "outputs": [],
   "source": []
  },
  {
   "cell_type": "markdown",
   "id": "4e9f4d26",
   "metadata": {},
   "source": [
    "### Ejercicio 2\n",
    "\n",
    "Escribe las instrucciones necesarias para:\n",
    "\n",
    "a) Crear una lista con los siguientes nombres de países: Estados Unidos, Kenia, Bélgica\n",
    "\n",
    "b) Insertar el país China en último lugar\n",
    "\n",
    "c) Ordenar la lista alfabéticamente\n",
    "\n",
    "d) Inserta el país Canadá en la posición que le corresponde alfabéticamente\n",
    "\n",
    "e) Eliminar el país Bélgica de la lista"
   ]
  },
  {
   "cell_type": "code",
   "execution_count": null,
   "id": "42461536",
   "metadata": {},
   "outputs": [],
   "source": []
  },
  {
   "cell_type": "markdown",
   "id": "e579e6e3",
   "metadata": {},
   "source": [
    "### Ejercicio 3\n",
    "\n",
    "Dado el siguiente texto \"María vive en un pueblo de 25 957 habitantes y cobra 1859 euros al mes.\", muestra por pantalla los dígitos que aparecen. "
   ]
  },
  {
   "cell_type": "code",
   "execution_count": null,
   "id": "ab37df9f",
   "metadata": {},
   "outputs": [],
   "source": []
  },
  {
   "cell_type": "code",
   "execution_count": 1,
   "id": "e54cd2e7",
   "metadata": {},
   "outputs": [],
   "source": [
    "#Esta función genera una lista de números aleatorios no duplicados de 'longitud' valores, comprendidos entre 'inicio' y 'fin'\n",
    "\n",
    "import random\n",
    "\n",
    "def genera_lista_aleatoria(longitud, inicio, fin):\n",
    "    lista=[]\n",
    "    i=0\n",
    "    while i<longitud:\n",
    "        num=random.randint(inicio, fin)\n",
    "        if num not in lista:\n",
    "            lista.append(num)\n",
    "            i+=1\n",
    "    return lista"
   ]
  },
  {
   "cell_type": "markdown",
   "id": "f92c7a52",
   "metadata": {},
   "source": [
    "### Ejercicio 4\n",
    "\n",
    "Dada una lista de 20 elementos entre 1 y 100 generada con la función `genera_lista_aleatoria(longitud, inicio, fin)`, extrae los valores que son impares y muéstralos por pantalla"
   ]
  },
  {
   "cell_type": "code",
   "execution_count": null,
   "id": "3002b808",
   "metadata": {},
   "outputs": [],
   "source": []
  },
  {
   "cell_type": "markdown",
   "id": "a84836f0",
   "metadata": {},
   "source": [
    "### Ejercicio 5\n",
    "\n",
    "Dada una lista de 10 elementos entre 1 y 20 generada con la función `genera_lista_aleatoria(longitud, inicio, fin)`, genera una nueva lista con el cuadrado de cada número de la lista original"
   ]
  },
  {
   "cell_type": "code",
   "execution_count": null,
   "id": "bf414fe5",
   "metadata": {},
   "outputs": [],
   "source": []
  },
  {
   "cell_type": "markdown",
   "id": "76b5b426",
   "metadata": {},
   "source": [
    "### Ejercicio 6\n",
    "\n",
    "Dado este fragmento de un poema de Miguel Hernández, muestra cuántas palabras tiene. \n",
    "\n",
    "*Menos tu vientre,*\n",
    "\n",
    "*todo es confuso.*\n",
    "\n",
    "*Menos tu vientre,*\n",
    "\n",
    "*todo es futuro*\n",
    "\n",
    "*fugaz, pasado*\n",
    "\n",
    "*baldío, turbio.*\n",
    "\n",
    "*Menos tu vientre,*\n",
    "\n",
    "*todo es oculto.*\n",
    "\n",
    "Almacena el texto como sigue:\n",
    "\n",
    "`texto = \"\"\"Menos tu vientre,\n",
    "todo es confuso.\n",
    "Menos tu vientre,\n",
    "todo es futuro\n",
    "fugaz, pasado\n",
    "baldío, turbio.\n",
    "Menos tu vientre,\n",
    "todo es oculto.\"\"\"`"
   ]
  },
  {
   "cell_type": "code",
   "execution_count": null,
   "id": "41c5092a",
   "metadata": {},
   "outputs": [],
   "source": []
  },
  {
   "cell_type": "markdown",
   "id": "3aedd555",
   "metadata": {},
   "source": [
    "### Ejercicio 7\n",
    "\n",
    "La última letra del DNI puede calcularse a partir de sus números. Para ello solo hay que dividir el número por 23 y quedarse con el resto. El resto es un número entre 0 y 22. La siguiente tabla muestra la letra que corresponde a cada número:\n",
    "\n",
    "<img src=\"data:image/png;base64,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\" />\n",
    "\n",
    "Escribe un programa que pida un DNI (sin letra) al usuario y muestre la letra que le corresponde. El DNI se debe leer de una vez, no número a número. "
   ]
  },
  {
   "cell_type": "code",
   "execution_count": null,
   "id": "3cee4c5d",
   "metadata": {},
   "outputs": [],
   "source": []
  },
  {
   "cell_type": "markdown",
   "id": "8ed6173e",
   "metadata": {},
   "source": [
    "### Ejercicio 8\n",
    "\n",
    "Dado el fragmento del poema del ejercicio 5, genera una lista con todas las palabras que contienen una 'i' o una 'u'. Dichas palabras deben almacenarse en mayúsculas en la lista. "
   ]
  },
  {
   "cell_type": "code",
   "execution_count": null,
   "id": "ab83cb53",
   "metadata": {},
   "outputs": [],
   "source": []
  },
  {
   "cell_type": "markdown",
   "id": "34fb092b",
   "metadata": {},
   "source": [
    "### Ejercicio 9\n",
    "\n",
    "Escribe un programa que lea una cadena por teclado y muestre por pantalla el número de letras mayúsculas que contiene."
   ]
  },
  {
   "cell_type": "code",
   "execution_count": null,
   "id": "7a48ce21",
   "metadata": {},
   "outputs": [],
   "source": []
  },
  {
   "cell_type": "markdown",
   "id": "4dc9ff44",
   "metadata": {},
   "source": [
    "### Ejercicio 10\n",
    "\n",
    "Escribe un programa que muestre las dos primeras letras de cada verso del poema del ejercicio 5.\n"
   ]
  },
  {
   "cell_type": "code",
   "execution_count": null,
   "id": "361a969a",
   "metadata": {},
   "outputs": [],
   "source": []
  }
 ],
 "metadata": {
  "kernelspec": {
   "display_name": "Python 3",
   "language": "python",
   "name": "python3"
  },
  "language_info": {
   "codemirror_mode": {
    "name": "ipython",
    "version": 3
   },
   "file_extension": ".py",
   "mimetype": "text/x-python",
   "name": "python",
   "nbconvert_exporter": "python",
   "pygments_lexer": "ipython3",
   "version": "3.8.8"
  }
 },
 "nbformat": 4,
 "nbformat_minor": 5
}
