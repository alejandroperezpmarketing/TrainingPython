{
 "cells": [
  {
   "cell_type": "markdown",
   "id": "cb2cd353",
   "metadata": {},
   "source": [
    "## Ejemplos del tema 1"
   ]
  },
  {
   "cell_type": "code",
   "execution_count": null,
   "id": "e0bc6c4a",
   "metadata": {},
   "outputs": [],
   "source": [
    "b=True\n",
    "c='Esto es un string'\n",
    "d=\"Esto tambien\"\n",
    "e=2524\n",
    "f=1.79\n",
    "print (type(b),type(c),type(d),type(e),type(f))"
   ]
  },
  {
   "cell_type": "code",
   "execution_count": null,
   "id": "3b58a0ad",
   "metadata": {},
   "outputs": [],
   "source": [
    "a=25\n",
    "print (\"Valor:\", a, \"Tipo:\", type(a))\n",
    "a=\"Mi primera clase de Python\"\n",
    "print (\"Valor:\", a, \"Tipo:\", type(a))"
   ]
  },
  {
   "cell_type": "code",
   "execution_count": null,
   "id": "1b2edd03",
   "metadata": {},
   "outputs": [],
   "source": [
    "a=34+67\n",
    "b=7-12\n",
    "c=2*4\n",
    "d=2**4\n",
    "e=25/3\n",
    "f=25//3\n",
    "g=25%3\n",
    "h=25.0/3\n",
    "i=25.0//3\n",
    "j=25.0%3\n",
    "print (a,b,c,d,e,f,g)\n",
    "print (h,i,j)"
   ]
  },
  {
   "cell_type": "code",
   "execution_count": null,
   "id": "8f1d436f",
   "metadata": {},
   "outputs": [],
   "source": [
    "c1=\"\"\"primera linea\n",
    "      segunda linea\"\"\"\n",
    "print (c1)\n",
    "a=\"uno\"\n",
    "b=\"dos\"\n",
    "c=a+b\n",
    "d=a*3\n",
    "print (a,b,c,d)"
   ]
  },
  {
   "cell_type": "code",
   "execution_count": null,
   "id": "afd54ef9",
   "metadata": {},
   "outputs": [],
   "source": [
    "import math\n",
    "radio=1\n",
    "volumen=4.0/3.0 * math.pi * radio ** 3\n",
    "print (\"El volumen de una esfera de radio\", radio, \"es\", volumen)\n",
    "print (\"Volumen de una esfera de radio {0:.4f} = {1:.7f}\".format(radio, volumen))\n",
    "print (f\"Volumen de una esfera de radio {radio:.4f} = {volumen:.7f}\")"
   ]
  },
  {
   "cell_type": "code",
   "execution_count": null,
   "id": "36d8bb6f",
   "metadata": {},
   "outputs": [],
   "source": [
    "import math\n",
    "radio=float(input('Introduce el radio de la esfera:'));\n",
    "volumen=4.0/3.0 * math.pi * radio ** 3\n",
    "print (\"El volumen de una esfera de radio\", radio, \"es\", volumen)"
   ]
  },
  {
   "cell_type": "code",
   "execution_count": null,
   "id": "207d728d",
   "metadata": {},
   "outputs": [],
   "source": [
    "cadena='Un EJEmplo'\n",
    "cadena=cadena.replace('E','e')\n",
    "print(cadena)"
   ]
  },
  {
   "cell_type": "code",
   "execution_count": null,
   "id": "0a909a26",
   "metadata": {},
   "outputs": [],
   "source": [
    "def suma(n1, n2):\n",
    "    return n1+n2"
   ]
  },
  {
   "cell_type": "code",
   "execution_count": null,
   "id": "8a73144d",
   "metadata": {},
   "outputs": [],
   "source": [
    "a=suma(3,6.79)\n",
    "b=suma(5.25,4.75)\n",
    "c=suma('Buenos','dias')\n",
    "print (a)\n",
    "print (b)\n",
    "print (c)"
   ]
  },
  {
   "cell_type": "code",
   "execution_count": null,
   "id": "f6e892e6",
   "metadata": {},
   "outputs": [],
   "source": [
    "def miFuncion(p1, p2):\n",
    "    print (p1)\n",
    "    print (p2)\n",
    "\n",
    "miFuncion(3, 'Laura')\n",
    "a=miFuncion(6,8)\n",
    "print (a)"
   ]
  }
 ],
 "metadata": {
  "kernelspec": {
   "display_name": "Python 3",
   "language": "python",
   "name": "python3"
  },
  "language_info": {
   "codemirror_mode": {
    "name": "ipython",
    "version": 3
   },
   "file_extension": ".py",
   "mimetype": "text/x-python",
   "name": "python",
   "nbconvert_exporter": "python",
   "pygments_lexer": "ipython3",
   "version": "3.8.8"
  }
 },
 "nbformat": 4,
 "nbformat_minor": 5
}
